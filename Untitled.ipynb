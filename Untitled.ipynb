{
 "cells": [
  {
   "cell_type": "code",
   "execution_count": 9,
   "id": "1443cab5-563d-477b-bf92-03f4050f0ca3",
   "metadata": {},
   "outputs": [
    {
     "name": "stdout",
     "output_type": "stream",
     "text": [
      "Enter values to test the maximum function\n"
     ]
    },
    {
     "name": "stdin",
     "output_type": "stream",
     "text": [
      "Enter first integer:  12\n",
      "Enter second integer:  27\n",
      "Enter third integer:  36\n"
     ]
    },
    {
     "name": "stdout",
     "output_type": "stream",
     "text": [
      "The maximum using the custom function is: 36\n",
      "The maximum using max is: 36\n",
      "\n",
      "Enter values to test the minimum function\n"
     ]
    },
    {
     "name": "stdin",
     "output_type": "stream",
     "text": [
      "Enter first integer:  15\n",
      "Enter second integer:  9\n",
      "Enter third integer:  27\n",
      "Enter fourth integer:  14\n"
     ]
    },
    {
     "name": "stdout",
     "output_type": "stream",
     "text": [
      "The minimum using the custom function is: 9\n",
      "The minimum using min is: 9\n"
     ]
    }
   ],
   "source": [
    "def maximum(value1, value2, value3):\n",
    "    \"\"\"Return the maximum of three values.\"\"\"\n",
    "    max_value = value1\n",
    "    if value2 > max_value:\n",
    "        max_value = value2\n",
    "    if value3 > max_value:\n",
    "        max_value = value3\n",
    "    return max_value\n",
    "\n",
    "def minimum(value1, value2, value3, value4):\n",
    "    \"\"\"Return the minimum of three values.\"\"\"\n",
    "    min_value = value1\n",
    "    if value2 < min_value:\n",
    "        min_value = value2\n",
    "    if value3 < min_value:\n",
    "        min_value = value3\n",
    "    if value4 < min_value:\n",
    "        min_value = value4        \n",
    "    return min_value\n",
    "\n",
    "# prompt the user for input values and print the maximum\n",
    "print(\"Enter values to test the maximum function:\")\n",
    "maxValue1 = int(input('Enter first integer: '))\n",
    "maxValue2 = int(input('Enter second integer: '))\n",
    "maxValue3 = int(input('Enter third integer: '))\n",
    "print(f'The maximum using the custom function is: {maximum(maxValue1, maxValue2, maxValue3)}')\n",
    "print(f'The maximum using max is: {max(maxValue1, maxValue2, maxValue3)}')\n",
    "\n",
    "print()\n",
    "\n",
    "# prompt the user for input values and print the minimum\n",
    "print(\"Enter values to test the minimum function:\")\n",
    "minValue1 = int(input('Enter first integer: '))\n",
    "minValue2 = int(input('Enter second integer: '))\n",
    "minValue3 = int(input('Enter third integer: '))\n",
    "minValue4 = int(input('Enter fourth integer: '))\n",
    "print(f'The minimum using the custom function is: {minimum(minValue1, minValue2, minValue3, minValue4)}')\n",
    "print(f'The minimum using min is: {min(minValue1, minValue2, minValue3, minValue4)}')\n",
    "\n"
   ]
  },
  {
   "cell_type": "code",
   "execution_count": 19,
   "id": "4093ec25-0e43-4c69-b68c-56c8b3070256",
   "metadata": {},
   "outputs": [
    {
     "name": "stdout",
     "output_type": "stream",
     "text": [
      "Face    Frequency\n",
      "   1            0\n",
      "   2       166712\n",
      "   3       333233\n",
      "   4       500006\n",
      "   5       666502\n",
      "   6       833279\n",
      "   7      1000336\n",
      "   8       832968\n",
      "   9       667079\n",
      "  10       500091\n",
      "  11       333823\n",
      "  12       165971\n",
      "\n",
      "You rolled craps 665916 times out of 6000000\n",
      "11.10%\n",
      "\n",
      "You won 1334159 times\n",
      "22.24%\n"
     ]
    }
   ],
   "source": [
    "import random\n",
    "\n",
    "# track frequency for each roll (12=6+6, the maximum value of two dice)\n",
    "frequency1 = 0\n",
    "frequency2 = 0\n",
    "frequency3 = 0\n",
    "frequency4 = 0\n",
    "frequency5 = 0\n",
    "frequency6 = 0  \n",
    "frequency7 = 0\n",
    "frequency8 = 0\n",
    "frequency9 = 0\n",
    "frequency10 = 0\n",
    "frequency11 = 0\n",
    "frequency12 = 0  \n",
    "rollCount = 0\n",
    "        \n",
    "# roll the die 6,000,000 times\n",
    "for roll in range(6_000_000):\n",
    "   \n",
    "    rollCount += 1\n",
    "    face = random.randrange(1,7) + random.randrange(1,7)\n",
    "    \n",
    "    # count the occurrence for each total roll (d1+d2)\n",
    "    if face == 1:\n",
    "        frequency1 += 1\n",
    "    elif face == 2:\n",
    "        frequency2 += 1    \n",
    "    elif face == 3:\n",
    "        frequency3 += 1\n",
    "    elif face == 4:\n",
    "        frequency4 += 1\n",
    "    elif face == 5:\n",
    "        frequency5 += 1        \n",
    "    elif face == 6:\n",
    "        frequency6 += 1       \n",
    "    elif face == 7:\n",
    "        frequency7 += 1\n",
    "    elif face == 8:\n",
    "        frequency8 += 1    \n",
    "    elif face == 9:\n",
    "        frequency9 += 1\n",
    "    elif face == 10:\n",
    "        frequency10 += 1\n",
    "    elif face == 11:\n",
    "        frequency11 += 1        \n",
    "    elif face == 12:\n",
    "        frequency12 += 1      \n",
    "\n",
    "# print results\n",
    "print(f'Face{\"Frequency\":>13}')\n",
    "print(f'{1:>4}{frequency1:>13}')\n",
    "print(f'{2:>4}{frequency2:>13}')\n",
    "print(f'{3:>4}{frequency3:>13}')\n",
    "print(f'{4:>4}{frequency4:>13}')\n",
    "print(f'{5:>4}{frequency5:>13}')\n",
    "print(f'{6:>4}{frequency6:>13}')\n",
    "print(f'{7:>4}{frequency7:>13}')\n",
    "print(f'{8:>4}{frequency8:>13}')\n",
    "print(f'{9:>4}{frequency9:>13}')\n",
    "print(f'{10:>4}{frequency10:>13}')\n",
    "print(f'{11:>4}{frequency11:>13}')\n",
    "print(f'{12:>4}{frequency12:>13}')   \n",
    "    \n",
    "print()     \n",
    "    \n",
    "# What fraction of the time did you roll \"craps\"? (add the frequencies for 2, 3, or 12)\n",
    "print(f'You rolled craps {frequency2 + frequency3 + frequency12} times out of {rollCount}')\n",
    "print(f'{(frequency2 + frequency3 + frequency12) / rollCount * 100:.2f}%')\n",
    "\n",
    "print()\n",
    "\n",
    "# What fraction of the time did you \"win\"? (add the frequencies for 7 or 11)\n",
    "print(f'You won {(frequency7 + frequency11)} times')\n",
    "print(f'{(frequency7 + frequency11) / rollCount * 100:.2f}%')\n"
   ]
  },
  {
   "cell_type": "code",
   "execution_count": 23,
   "id": "fa0225ee-d105-4dc8-9485-8cb037768ab7",
   "metadata": {},
   "outputs": [
    {
     "name": "stdout",
     "output_type": "stream",
     "text": [
      "Square Root of 900 = 30.0\n",
      "Floor of 9.2 = 9\n"
     ]
    }
   ],
   "source": [
    "import math\n",
    "\n",
    "print(f'Square Root of 900 = {math.sqrt(900)}')\n",
    "\n",
    "print(f'Floor of 9.2 = {math.floor(9.2)}')\n",
    "\n"
   ]
  },
  {
   "cell_type": "code",
   "execution_count": 24,
   "id": "548ff166-f1a7-4516-a1ab-b29986e32485",
   "metadata": {},
   "outputs": [
    {
     "name": "stdout",
     "output_type": "stream",
     "text": [
      "Tax:  7.5\n",
      "Tip:  20.0\n",
      "Total:  127.49999999999999\n"
     ]
    }
   ],
   "source": [
    "# python object representing a purchase for a given amount\n",
    "class Purchase(object):\n",
    "    def __init__(self, amount):\n",
    "        self.amount = amount\n",
    "        \n",
    "    def calculateTax(self, taxPercent):\n",
    "        return self.amount * taxPercent/100.0\n",
    "    \n",
    "    def calculateTip(self, tipPercent):\n",
    "        return self.amount * tipPercent/100.0\n",
    "    \n",
    "    def calculateTotal(self, taxPercent, tipPercent):\n",
    "        return self.amount * (1 + taxPercent/100.0 + tipPercent/100.0)\n",
    "    \n",
    "# create purcahse object given an amount\n",
    "purchase = Purchase(100.0)\n",
    "\n",
    "# set the tax and tip percentages\n",
    "taxPercent = 7.5\n",
    "tipPercent = 20.0\n",
    "\n",
    "#use the object to calculate tax and tip\n",
    "tax = purchase.calculateTax(taxPercent)\n",
    "tip = purchase.calculateTip(tipPercent)\n",
    "\n",
    "# display some useful information\n",
    "print('Tax: ', tax)\n",
    "print('Tip: ', tip)\n",
    "print('Total: ', purchase.calculateTotal(taxPercent, tipPercent))\n"
   ]
  },
  {
   "cell_type": "code",
   "execution_count": 27,
   "id": "77793a88-d3ef-4679-87b3-f4b3efdc6a8a",
   "metadata": {},
   "outputs": [
    {
     "name": "stdout",
     "output_type": "stream",
     "text": [
      "10 6-sided die rolls\n",
      "Rolls: [1, 3, 4, 2, 6, 5, 3, 4, 5, 2]\n",
      "Population Variance: 2.25\n",
      "Population Standard Deviation: 1.5\n"
     ]
    }
   ],
   "source": [
    "import statistics as stats\n",
    "\n",
    "# 10 6-sided die rolls\n",
    "dieRolls = [1, 3, 4, 2, 6, 5, 3, 4, 5, 2]\n",
    "\n",
    "print('10 6-sided die rolls')\n",
    "print(f'Rolls: {dieRolls}')\n",
    "print(f'Population Variance: {stats.pvariance(dieRolls)}')\n",
    "print(f'Population Standard Deviation: {stats.pstdev(dieRolls)}')\n"
   ]
  },
  {
   "cell_type": "code",
   "execution_count": 36,
   "id": "74e85fc2-28cc-445d-8e21-d67f3d804d49",
   "metadata": {},
   "outputs": [
    {
     "name": "stdout",
     "output_type": "stream",
     "text": [
      "List: [16, 2, 12, 4, 5, 12, 19, 0, 9, 10, 16, 2, 13, 10, 10, 12, 0, 14, 9, 8, 9, 14, 0, 8, 13, 6, 5, 16, 14, 1, 9, 14, 16, 18, 15, 5, 10, 1, 13, 13, 10, 0, 17, 3, 19, 10, 14, 1, 12, 15, 10, 17, 16, 18, 0, 18, 1, 11, 15, 19, 9, 14, 7, 14, 19, 10, 11, 6, 8, 16, 11, 8, 3, 9, 14, 5, 0, 14, 16, 13, 17, 14, 7, 18, 5, 10, 17, 5, 16, 11, 9, 10, 6, 0, 7, 12, 7, 11, 5, 18, 18, 17, 6, 0, 5, 11, 6, 17, 13, 5, 19, 8, 12, 18, 19, 14, 1, 11, 8, 11, 1, 18, 18, 1, 3, 2, 14, 0, 19, 0, 15, 8, 13, 19, 0, 19, 0, 0, 18, 18, 10, 2, 13, 6, 15, 6, 10, 10, 19, 5]\n",
      "\n",
      "Population Variance: 35.02\n",
      "Population Standard Deviation: 5.92\n"
     ]
    }
   ],
   "source": [
    "\n",
    "randomList = []\n",
    "\n",
    "for x in range(150):\n",
    "    randomList.append(random.randrange(20))\n",
    "    \n",
    "print(f'List: {randomList}')\n",
    "print()\n",
    "print(f'Population Variance: {stats.pvariance(randomList):.2f}')\n",
    "print(f'Population Standard Deviation: {stats.pstdev(randomList):.2f}')\n",
    "\n"
   ]
  },
  {
   "cell_type": "code",
   "execution_count": null,
   "id": "2adb5e0d-940c-47b3-a9b5-f328428ac48c",
   "metadata": {},
   "outputs": [],
   "source": []
  }
 ],
 "metadata": {
  "kernelspec": {
   "display_name": "Python 3 (ipykernel)",
   "language": "python",
   "name": "python3"
  },
  "language_info": {
   "codemirror_mode": {
    "name": "ipython",
    "version": 3
   },
   "file_extension": ".py",
   "mimetype": "text/x-python",
   "name": "python",
   "nbconvert_exporter": "python",
   "pygments_lexer": "ipython3",
   "version": "3.9.7"
  }
 },
 "nbformat": 4,
 "nbformat_minor": 5
}
